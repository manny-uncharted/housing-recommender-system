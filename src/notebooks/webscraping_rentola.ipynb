{
  "metadata": {
    "kernelspec": {
      "language": "python",
      "display_name": "Python 3",
      "name": "python3"
    },
    "language_info": {
      "name": "python",
      "version": "3.7.12",
      "mimetype": "text/x-python",
      "codemirror_mode": {
        "name": "ipython",
        "version": 3
      },
      "pygments_lexer": "ipython3",
      "nbconvert_exporter": "python",
      "file_extension": ".py"
    },
    "colab": {
      "provenance": []
    }
  },
  "nbformat_minor": 0,
  "nbformat": 4,
  "cells": [
    {
      "cell_type": "markdown",
      "source": [
        "- The purpose of this note is to show you how to use selenium in kaggle notebook.\n",
        "- Please, do upvote if you find it uselful or intersteing."
      ],
      "metadata": {
        "id": "V_lHlgqBObho"
      }
    },
    {
      "cell_type": "markdown",
      "source": [
        "# Install"
      ],
      "metadata": {
        "id": "5ZGcDZhUObhs"
      }
    },
    {
      "cell_type": "code",
      "source": [
        "# install google chrome\n",
        "!wget https://dl.google.com/linux/linux_signing_key.pub\n",
        "!sudo apt-key add linux_signing_key.pub\n",
        "!echo 'deb [arch=amd64] http://dl.google.com/linux/chrome/deb/ stable main' >> /etc/apt/sources.list.d/google-chrome.list\n",
        "!sudo apt-get -y update\n",
        "!sudo apt-get install -y google-chrome-stable"
      ],
      "metadata": {
        "_kg_hide-output": true,
        "execution": {
          "iopub.status.busy": "2023-07-25T06:36:11.449554Z",
          "iopub.execute_input": "2023-07-25T06:36:11.450656Z",
          "iopub.status.idle": "2023-07-25T06:36:21.928244Z",
          "shell.execute_reply.started": "2023-07-25T06:36:11.450591Z",
          "shell.execute_reply": "2023-07-25T06:36:21.927169Z"
        },
        "trusted": true,
        "id": "aOTURM8eObhs",
        "outputId": "aae49211-486c-4826-db25-90d7e01535af"
      },
      "execution_count": null,
      "outputs": [
        {
          "name": "stdout",
          "text": "--2023-07-25 06:36:12--  https://dl.google.com/linux/linux_signing_key.pub\nResolving dl.google.com (dl.google.com)... 142.251.18.93, 142.251.18.190, 142.251.18.91, ...\nConnecting to dl.google.com (dl.google.com)|142.251.18.93|:443... connected.\nHTTP request sent, awaiting response... 200 OK\nLength: 14605 (14K) [application/octet-stream]\nSaving to: ‘linux_signing_key.pub.1’\n\nlinux_signing_key.p 100%[===================>]  14.26K  --.-KB/s    in 0s      \n\n2023-07-25 06:36:12 (62.7 MB/s) - ‘linux_signing_key.pub.1’ saved [14605/14605]\n\nOK\nGet:1 http://security.ubuntu.com/ubuntu focal-security InRelease [114 kB]\nHit:2 https://dl.google.com/linux/chrome/deb stable InRelease                  \nHit:3 http://archive.ubuntu.com/ubuntu focal InRelease                         \nHit:4 http://archive.ubuntu.com/ubuntu focal-updates InRelease      \nGet:5 http://packages.cloud.google.com/apt gcsfuse-focal InRelease [5002 B]\nHit:6 http://archive.ubuntu.com/ubuntu focal-backports InRelease    \nGet:7 https://packages.cloud.google.com/apt cloud-sdk InRelease [6361 B]\nErr:5 http://packages.cloud.google.com/apt gcsfuse-focal InRelease\n  The following signatures couldn't be verified because the public key is not available: NO_PUBKEY B53DC80D13EDEF05\nErr:7 https://packages.cloud.google.com/apt cloud-sdk InRelease\n  The following signatures couldn't be verified because the public key is not available: NO_PUBKEY B53DC80D13EDEF05\nFetched 125 kB in 1s (132 kB/s)\nReading package lists... Done\nW: Target Packages (main/binary-amd64/Packages) is configured multiple times in /etc/apt/sources.list.d/google-chrome.list:3 and /etc/apt/sources.list.d/google-chrome.list:4\nW: Target Packages (main/binary-all/Packages) is configured multiple times in /etc/apt/sources.list.d/google-chrome.list:3 and /etc/apt/sources.list.d/google-chrome.list:4\nW: An error occurred during the signature verification. The repository is not updated and the previous index files will be used. GPG error: http://packages.cloud.google.com/apt gcsfuse-focal InRelease: The following signatures couldn't be verified because the public key is not available: NO_PUBKEY B53DC80D13EDEF05\nW: An error occurred during the signature verification. The repository is not updated and the previous index files will be used. GPG error: https://packages.cloud.google.com/apt cloud-sdk InRelease: The following signatures couldn't be verified because the public key is not available: NO_PUBKEY B53DC80D13EDEF05\nW: Failed to fetch http://packages.cloud.google.com/apt/dists/gcsfuse-focal/InRelease  The following signatures couldn't be verified because the public key is not available: NO_PUBKEY B53DC80D13EDEF05\nW: Failed to fetch https://packages.cloud.google.com/apt/dists/cloud-sdk/InRelease  The following signatures couldn't be verified because the public key is not available: NO_PUBKEY B53DC80D13EDEF05\nW: Some index files failed to download. They have been ignored, or old ones used instead.\nW: Target Packages (main/binary-amd64/Packages) is configured multiple times in /etc/apt/sources.list.d/google-chrome.list:3 and /etc/apt/sources.list.d/google-chrome.list:4\nW: Target Packages (main/binary-all/Packages) is configured multiple times in /etc/apt/sources.list.d/google-chrome.list:3 and /etc/apt/sources.list.d/google-chrome.list:4\nReading package lists... Done\nBuilding dependency tree       \nReading state information... Done\ngoogle-chrome-stable is already the newest version (115.0.5790.102-1).\n0 upgraded, 0 newly installed, 0 to remove and 248 not upgraded.\nW: Target Packages (main/binary-amd64/Packages) is configured multiple times in /etc/apt/sources.list.d/google-chrome.list:3 and /etc/apt/sources.list.d/google-chrome.list:4\nW: Target Packages (main/binary-all/Packages) is configured multiple times in /etc/apt/sources.list.d/google-chrome.list:3 and /etc/apt/sources.list.d/google-chrome.list:4\n",
          "output_type": "stream"
        }
      ]
    },
    {
      "cell_type": "code",
      "source": [
        "# install chromedriver\n",
        "# !apt-get install -y qq unzip\n",
        "!wget -O /tmp/chromedriver.zip http://chromedriver.storage.googleapis.com/`curl -sS chromedriver.storage.googleapis.com/LATEST_RELEASE`/chromedriver_linux64.zip\n",
        "!unzip /tmp/chromedriver.zip chromedriver -d /usr/local/bin/"
      ],
      "metadata": {
        "_kg_hide-output": true,
        "execution": {
          "iopub.status.busy": "2023-07-25T06:36:21.930697Z",
          "iopub.execute_input": "2023-07-25T06:36:21.931057Z",
          "iopub.status.idle": "2023-07-25T06:36:29.145952Z",
          "shell.execute_reply.started": "2023-07-25T06:36:21.931020Z",
          "shell.execute_reply": "2023-07-25T06:36:29.144856Z"
        },
        "trusted": true,
        "id": "dU6Pyi8dObhu",
        "outputId": "f3716f96-eca2-4e58-ba3a-2e6258c1ec6d"
      },
      "execution_count": null,
      "outputs": [
        {
          "name": "stdout",
          "text": "--2023-07-25 06:36:23--  http://chromedriver.storage.googleapis.com/114.0.5735.90/chromedriver_linux64.zip\nResolving chromedriver.storage.googleapis.com (chromedriver.storage.googleapis.com)... 173.194.69.128, 173.194.79.128, 108.177.96.128, ...\nConnecting to chromedriver.storage.googleapis.com (chromedriver.storage.googleapis.com)|173.194.69.128|:80... connected.\nHTTP request sent, awaiting response... 200 OK\nLength: 7407250 (7.1M) [application/zip]\nSaving to: ‘/tmp/chromedriver.zip’\n\n/tmp/chromedriver.z 100%[===================>]   7.06M  8.99MB/s    in 0.8s    \n\n2023-07-25 06:36:23 (8.99 MB/s) - ‘/tmp/chromedriver.zip’ saved [7407250/7407250]\n\nArchive:  /tmp/chromedriver.zip\nreplace /usr/local/bin/chromedriver? [y]es, [n]o, [A]ll, [N]one, [r]ename: ^C\n",
          "output_type": "stream"
        }
      ]
    },
    {
      "cell_type": "code",
      "source": [
        "# install selenium\n",
        "!sudo apt install -y python3-selenium\n",
        "!pip install selenium==3.141.0 > /dev/null"
      ],
      "metadata": {
        "_kg_hide-output": true,
        "execution": {
          "iopub.status.busy": "2023-07-25T06:36:29.148039Z",
          "iopub.execute_input": "2023-07-25T06:36:29.148332Z",
          "iopub.status.idle": "2023-07-25T06:36:43.434975Z",
          "shell.execute_reply.started": "2023-07-25T06:36:29.148298Z",
          "shell.execute_reply": "2023-07-25T06:36:43.434015Z"
        },
        "trusted": true,
        "id": "Y8akguY6Obhv",
        "outputId": "f4d265ab-ee43-4d58-91b1-95cb94828268"
      },
      "execution_count": null,
      "outputs": [
        {
          "name": "stdout",
          "text": "Reading package lists... Done\nBuilding dependency tree       \nReading state information... Done\npython3-selenium is already the newest version (4.0.0~a1+dfsg1-1.1).\n0 upgraded, 0 newly installed, 0 to remove and 248 not upgraded.\n\u001b[1;33mW: \u001b[0mTarget Packages (main/binary-amd64/Packages) is configured multiple times in /etc/apt/sources.list.d/google-chrome.list:3 and /etc/apt/sources.list.d/google-chrome.list:4\u001b[0m\n\u001b[1;33mW: \u001b[0mTarget Packages (main/binary-all/Packages) is configured multiple times in /etc/apt/sources.list.d/google-chrome.list:3 and /etc/apt/sources.list.d/google-chrome.list:4\u001b[0m\n\u001b[33mWARNING: Running pip as the 'root' user can result in broken permissions and conflicting behaviour with the system package manager. It is recommended to use a virtual environment instead: https://pip.pypa.io/warnings/venv\u001b[0m\n",
          "output_type": "stream"
        }
      ]
    },
    {
      "cell_type": "code",
      "source": [
        "# To check Google Chrome's version\n",
        "!google-chrome --version"
      ],
      "metadata": {
        "execution": {
          "iopub.status.busy": "2023-07-25T06:36:43.437150Z",
          "iopub.execute_input": "2023-07-25T06:36:43.437441Z",
          "iopub.status.idle": "2023-07-25T06:36:44.603256Z",
          "shell.execute_reply.started": "2023-07-25T06:36:43.437409Z",
          "shell.execute_reply": "2023-07-25T06:36:44.602247Z"
        },
        "trusted": true,
        "id": "1-IEi_P5Obhv",
        "outputId": "da6ce24d-5c2c-499e-d809-e00b2faf61e4"
      },
      "execution_count": null,
      "outputs": [
        {
          "name": "stdout",
          "text": "Google Chrome 115.0.5790.102 \n",
          "output_type": "stream"
        }
      ]
    },
    {
      "cell_type": "code",
      "source": [
        "# To check Chrome Driver's version\n",
        "!chromedriver -v"
      ],
      "metadata": {
        "execution": {
          "iopub.status.busy": "2023-07-25T06:36:44.606708Z",
          "iopub.execute_input": "2023-07-25T06:36:44.607056Z",
          "iopub.status.idle": "2023-07-25T06:36:45.709081Z",
          "shell.execute_reply.started": "2023-07-25T06:36:44.607018Z",
          "shell.execute_reply": "2023-07-25T06:36:45.707768Z"
        },
        "trusted": true,
        "id": "rhP8xyZPObhw",
        "outputId": "d20cef20-d85f-4075-c86a-9575312cf3ae"
      },
      "execution_count": null,
      "outputs": [
        {
          "name": "stdout",
          "text": "ChromeDriver 114.0.5735.90 (386bc09e8f4f2e025eddae123f36f6263096ae49-refs/branch-heads/5735@{#1052})\n",
          "output_type": "stream"
        }
      ]
    },
    {
      "cell_type": "markdown",
      "source": [
        "# Let's get started!"
      ],
      "metadata": {
        "id": "XtNxhU57Obhw"
      }
    },
    {
      "cell_type": "code",
      "source": [
        "# import libraries\n",
        "import time\n",
        "from PIL import Image\n",
        "from selenium import webdriver\n",
        "from selenium.webdriver.common.by import By"
      ],
      "metadata": {
        "execution": {
          "iopub.status.busy": "2023-07-25T06:36:45.713842Z",
          "iopub.execute_input": "2023-07-25T06:36:45.714860Z",
          "iopub.status.idle": "2023-07-25T06:36:45.720101Z",
          "shell.execute_reply.started": "2023-07-25T06:36:45.714806Z",
          "shell.execute_reply": "2023-07-25T06:36:45.719404Z"
        },
        "trusted": true,
        "id": "nR9iKDWmObhx"
      },
      "execution_count": null,
      "outputs": []
    },
    {
      "cell_type": "code",
      "source": [
        "url = 'https://www.kaggle.com/competitions'\n",
        "\n",
        "chrome_options = webdriver.ChromeOptions()\n",
        "chrome_options.add_argument('--no-sandbox')\n",
        "chrome_options.add_argument('--headless')\n",
        "chrome_options.add_argument('--disable-gpu')\n",
        "chrome_options.add_argument('--disable-dev-shm-usage')\n",
        "chrome_options.add_argument(\"--window-size=1920,1080\")\n",
        "driver = webdriver.Chrome(options=chrome_options)"
      ],
      "metadata": {
        "execution": {
          "iopub.status.busy": "2023-07-25T06:36:45.721418Z",
          "iopub.execute_input": "2023-07-25T06:36:45.721834Z",
          "iopub.status.idle": "2023-07-25T06:36:46.923147Z",
          "shell.execute_reply.started": "2023-07-25T06:36:45.721789Z",
          "shell.execute_reply": "2023-07-25T06:36:46.921771Z"
        },
        "trusted": true,
        "id": "gXWB94bkObhx"
      },
      "execution_count": null,
      "outputs": []
    },
    {
      "cell_type": "code",
      "source": [
        "from bs4 import BeautifulSoup\n",
        "from tqdm import tqdm\n",
        "# Define the URL of the website\n",
        "url = 'https://rentola.com/for-rent?utf8=%E2%9C%93&location=&location=london'\n",
        "\n",
        "\n",
        "driver.get(url)\n",
        "\n",
        "\n",
        "elem = driver.find_element(by =By.CLASS_NAME, value = 'coi-banner__accept')\n",
        "try :\n",
        "\n",
        "    elem.click()\n",
        "except:\n",
        "    pass\n",
        "\n",
        "\n",
        "for i in tqdm(range(33)):\n",
        "    time.sleep(1)\n",
        "    load_more = driver.find_element(by =By.ID, value = 'load-more')\n",
        "    if load_more:\n",
        "        driver.execute_script(\"arguments[0].click();\", load_more)\n",
        ""
      ],
      "metadata": {
        "execution": {
          "iopub.status.busy": "2023-07-25T06:36:46.925256Z",
          "iopub.execute_input": "2023-07-25T06:36:46.928500Z",
          "iopub.status.idle": "2023-07-25T06:46:18.084062Z",
          "shell.execute_reply.started": "2023-07-25T06:36:46.928448Z",
          "shell.execute_reply": "2023-07-25T06:46:18.082995Z"
        },
        "trusted": true,
        "id": "9Vu1LhoKObhy",
        "outputId": "6c0b611a-f721-4c2a-c3f3-fd244ec74e86"
      },
      "execution_count": null,
      "outputs": [
        {
          "name": "stderr",
          "text": "100%|██████████| 33/33 [09:26<00:00, 17.15s/it]\n",
          "output_type": "stream"
        }
      ]
    },
    {
      "cell_type": "code",
      "source": [
        "html_content = driver.page_source\n",
        "\n",
        "# Parse the HTML content using Beautiful Soup\n",
        "soup = BeautifulSoup(html_content, 'html.parser')"
      ],
      "metadata": {
        "execution": {
          "iopub.status.busy": "2023-07-25T06:46:18.085878Z",
          "iopub.execute_input": "2023-07-25T06:46:18.086206Z",
          "iopub.status.idle": "2023-07-25T06:47:34.696857Z",
          "shell.execute_reply.started": "2023-07-25T06:46:18.086163Z",
          "shell.execute_reply": "2023-07-25T06:47:34.695861Z"
        },
        "trusted": true,
        "id": "EVPkLFNpObhy"
      },
      "execution_count": null,
      "outputs": []
    },
    {
      "cell_type": "code",
      "source": [
        "listings = []\n",
        "for k in soup.find_all('a'):\n",
        "    try:\n",
        "        if k['href'].startswith('/listings') and  k['href'] !='/listings/new':\n",
        "            listings.append(k['href'])\n",
        "    except:\n",
        "        pass\n",
        "print(len(listings))\n",
        "listings = [listings[i] for i in range(0, len(listings),2)]"
      ],
      "metadata": {
        "execution": {
          "iopub.status.busy": "2023-07-25T06:47:34.698364Z",
          "iopub.execute_input": "2023-07-25T06:47:34.698638Z",
          "iopub.status.idle": "2023-07-25T06:47:34.832117Z",
          "shell.execute_reply.started": "2023-07-25T06:47:34.698608Z",
          "shell.execute_reply": "2023-07-25T06:47:34.830849Z"
        },
        "trusted": true,
        "id": "C-trUI1YObhy",
        "outputId": "f447ad3e-99af-4f1c-8dc5-62e49b8bd581"
      },
      "execution_count": null,
      "outputs": [
        {
          "name": "stdout",
          "text": "1782\n",
          "output_type": "stream"
        }
      ]
    },
    {
      "cell_type": "code",
      "source": [
        "import requests\n",
        "all_specs = []\n",
        "\n",
        "for propert in tqdm(listings):\n",
        "    xx = requests.get(f'https://rentola.com{propert}')\n",
        "\n",
        "\n",
        "    html_content = xx.text\n",
        "\n",
        "    # Parse the HTML content using Beautiful Soup\n",
        "    soup = BeautifulSoup(html_content, 'html.parser')\n",
        "    spec_dict = {}\n",
        "\n",
        "    spec_dict['title'] = soup.find('h1').text.strip('\\n')\n",
        "    spec_dict['address'] = soup.find('h2').text\n",
        "    spec_dict['link'] = f'https://rentola.com{propert}'\n",
        "\n",
        "    for spec in soup.find_all(class_ ='circle'):\n",
        "        feature = spec.find(class_ = 'about-label').text\n",
        "        value = spec.find(class_ = 'data').text\n",
        "        spec_dict[feature] = value\n",
        "    try:\n",
        "        spec_dict['description'] = soup.find(itemprop = 'description').text\n",
        "    except (AttributeError):\n",
        "        pass\n",
        "    try:\n",
        "        spec_dict['latitude'] = soup.find('div', id = 'map')['data-lat']\n",
        "        spec_dict['longitude'] = soup.find('div', id = 'map')['data-lng']\n",
        "    except:\n",
        "        pass\n",
        "    all_specs.append(spec_dict)\n"
      ],
      "metadata": {
        "execution": {
          "iopub.status.busy": "2023-07-25T06:47:34.834907Z",
          "iopub.execute_input": "2023-07-25T06:47:34.836029Z"
        },
        "trusted": true,
        "id": "tJUR8aVdObhy",
        "outputId": "36accf41-f3eb-473d-e9d5-35a22301916d"
      },
      "execution_count": null,
      "outputs": [
        {
          "name": "stderr",
          "text": " 78%|███████▊  | 697/891 [16:11<04:59,  1.55s/it] ",
          "output_type": "stream"
        }
      ]
    },
    {
      "cell_type": "code",
      "source": [
        "import pandas as pd\n",
        "\n",
        "df = pd.DataFrame.from_dict(all_specs, orient='columns')\n",
        "df.to_csv('Rentola-1.csv',index = False)\n",
        "df"
      ],
      "metadata": {
        "trusted": true,
        "id": "7HbLChvLObhz"
      },
      "execution_count": null,
      "outputs": []
    },
    {
      "cell_type": "code",
      "source": [
        "# Send a GET request to the website and retrieve the HTML content\n",
        "#response = scraper.get(url)\n",
        "\n",
        "\n",
        "# Extract the desired information from the parsed HTML\n",
        "# You'll need to inspect the HTML structure of the website to find the appropriate elements and attributes to extract the data you want\n",
        "# For example, if the information you want is contained in <div> elements with class 'property-item', you can use the following code:\n",
        "property_items = soup.find_all('div', class_='property')\n",
        "print(property_items)\n",
        "\n",
        "# Iterate over the property items and extract the desired data\n",
        "for item in property_items:\n",
        "    # Extract the URL of the property\n",
        "    property_url = item.find('a')['href']\n",
        "\n",
        "    # Extract the number of bedrooms\n",
        "    bedrooms = item.find('span', class_='bedrooms').text\n",
        "\n",
        "    # Extract the number of bathrooms\n",
        "    bathrooms = item.find('span', class_='bathrooms').text\n",
        "\n",
        "    # Extract the apartment type\n",
        "    apartment_type = item.find('span', class_='apartment-type').text\n",
        "\n",
        "    # Extract the price\n",
        "    price = item.find('span', class_='price').text\n",
        "\n",
        "    # Extract the location\n",
        "    location = item.find('span', class_='location').text\n",
        "\n",
        "    # Print the extracted data\n",
        "    print('URL:', property_url)\n",
        "    print('Bedrooms:', bedrooms)\n",
        "    print('Bathrooms:', bathrooms)\n",
        "    print('Apartment Type:', apartment_type)\n",
        "    print('Price:', price)\n",
        "    print('Location:', location)\n",
        "    print('---')\n"
      ],
      "metadata": {
        "trusted": true,
        "id": "WdYRqLPnObhz"
      },
      "execution_count": null,
      "outputs": []
    },
    {
      "cell_type": "code",
      "source": [
        "elem = driver.find_element(by =By.CLASS_NAME, 'coi-banner__accept')\n",
        "elem.click()"
      ],
      "metadata": {
        "trusted": true,
        "id": "5AJsxI_DObhz"
      },
      "execution_count": null,
      "outputs": []
    },
    {
      "cell_type": "code",
      "source": [
        "# get competition \"All competition\" button\n",
        "elem = driver.find_element(by=By.XPATH, value='//*[@id=\"site-content\"]/div[4]/div[4]/div/div[2]/div/button[1]')\n",
        "# button click\n",
        "elem.click()\n",
        "# javascript is running, so wait until to get the information.\n",
        "time.sleep(5)"
      ],
      "metadata": {
        "trusted": true,
        "id": "jlVglKVvObhz"
      },
      "execution_count": null,
      "outputs": []
    },
    {
      "cell_type": "code",
      "source": [
        "# take a picture\n",
        "driver.save_screenshot('result.png')\n",
        "img = Image.open('result.png')\n",
        "img"
      ],
      "metadata": {
        "trusted": true,
        "id": "IGkrSd0BObhz"
      },
      "execution_count": null,
      "outputs": []
    },
    {
      "cell_type": "code",
      "source": [],
      "metadata": {
        "id": "iX1dzantObhz"
      },
      "execution_count": null,
      "outputs": []
    }
  ]
}