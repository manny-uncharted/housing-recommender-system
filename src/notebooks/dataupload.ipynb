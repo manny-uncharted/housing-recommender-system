{
 "cells": [
  {
   "cell_type": "code",
   "execution_count": 1,
   "metadata": {},
   "outputs": [],
   "source": [
    "import boto3\n",
    "import os\n",
    "import pathlib\n",
    "# import pandas as pd\n",
    "import pickle\n",
    "from dotenv import load_dotenv"
   ]
  },
  {
   "cell_type": "code",
   "execution_count": 3,
   "metadata": {},
   "outputs": [],
   "source": [
    "BASE_DIR = pathlib.Path().resolve().parent.parent\n",
    "EXPORT_DIR = BASE_DIR / 'data'\n",
    "DATA_PATH = EXPORT_DIR / 'properties.txt'\n",
    "ALL_PROPERTIES_PATH = EXPORT_DIR / 'all_properties.txt'\n",
    "CATBOOST_MODEL_PATH = EXPORT_DIR / 'catboost_model'\n",
    "CATEGORIES_PATH = EXPORT_DIR / 'categories.json'\n",
    "MINI_PROPERTIES_PATH = EXPORT_DIR / 'mini_properties.txt'\n",
    "OPENRENT_PATH = EXPORT_DIR / 'openrent.txt'\n",
    "OUTPUT_PATH = EXPORT_DIR / 'output.txt'"
   ]
  },
  {
   "cell_type": "code",
   "execution_count": 4,
   "metadata": {},
   "outputs": [
    {
     "data": {
      "text/plain": [
       "True"
      ]
     },
     "execution_count": 4,
     "metadata": {},
     "output_type": "execute_result"
    }
   ],
   "source": [
    "load_dotenv()"
   ]
  },
  {
   "cell_type": "code",
   "execution_count": 5,
   "metadata": {},
   "outputs": [],
   "source": [
    "# AWS S3 Config\n",
    "ACCESS_KEY = os.environ.get(\"AWS_ACCESS_KEY\")\n",
    "SECRET_KEY = os.environ.get(\"AWS_SECRET_KEY\")\n",
    "\n",
    "# You should not have to set this\n",
    "ENDPOINT= None\n",
    "\n",
    "# Your s3-bucket region\n",
    "REGION = os.environ.get(\"REGION\") or \"us-east-1\"\n",
    "\n",
    "BUCKET_NAME = os.environ.get(\"BUCKET_NAME\")"
   ]
  },
  {
   "cell_type": "markdown",
   "metadata": {},
   "source": [
    "# Upload dataset to the cloud storage bucket using boto3"
   ]
  },
  {
   "cell_type": "code",
   "execution_count": 6,
   "metadata": {},
   "outputs": [],
   "source": [
    "# Upload paths\n",
    "DATA_PATH_KEY_NAME = f\"exports/data/{DATA_PATH.name}\"\n",
    "ALL_PROPERTIES_PATH_KEY_NAME = f\"exports/data/{ALL_PROPERTIES_PATH.name}\"\n",
    "CATBOOST_MODEL_PATH_KEY_NAME = f\"exports/data/{CATBOOST_MODEL_PATH.name}\"\n",
    "CATEGORIES_PATH_KEY_NAME = f\"exports/data/{CATEGORIES_PATH.name}\"\n",
    "MINI_PROPERTIES_PATH_KEY_NAME = f\"exports/data/{MINI_PROPERTIES_PATH.name}\"\n",
    "OPENRENT_PATH_KEY_NAME = f\"exports/data/{OPENRENT_PATH.name}\"\n",
    "OUTPUT_PATH_KEY_NAME = f\"exports/data/{OUTPUT_PATH.name}\""
   ]
  },
  {
   "cell_type": "code",
   "execution_count": 7,
   "metadata": {},
   "outputs": [],
   "source": [
    "os.environ[\"AWS_ACCESS_KEY_ID\"] = ACCESS_KEY\n",
    "os.environ[\"AWS_SECRET_ACCESS_KEY\"] = SECRET_KEY"
   ]
  },
  {
   "cell_type": "code",
   "execution_count": 9,
   "metadata": {},
   "outputs": [],
   "source": [
    "session = boto3.session.Session()\n",
    "client = session.client('s3', region_name=REGION)\n",
    "client.upload_file(str(DATA_PATH), BUCKET_NAME,  DATA_PATH_KEY_NAME)\n",
    "client.upload_file(str(ALL_PROPERTIES_PATH), BUCKET_NAME,  ALL_PROPERTIES_PATH_KEY_NAME)"
   ]
  },
  {
   "cell_type": "code",
   "execution_count": null,
   "metadata": {},
   "outputs": [],
   "source": [
    "client.upload_file(str(CATBOOST_MODEL_PATH), BUCKET_NAME,  CATBOOST_MODEL_PATH_KEY_NAME)\n",
    "client.upload_file(str(CATEGORIES_PATH), BUCKET_NAME,  CATEGORIES_PATH_KEY_NAME)\n",
    "client.upload_file(str(MINI_PROPERTIES_PATH), BUCKET_NAME,  MINI_PROPERTIES_PATH_KEY_NAME)\n",
    "client.upload_file(str(OPENRENT_PATH), BUCKET_NAME,  OPENRENT_PATH_KEY_NAME)\n",
    "client.upload_file(str(OUTPUT_PATH), BUCKET_NAME,  OUTPUT_PATH_KEY_NAME)"
   ]
  },
  {
   "cell_type": "code",
   "execution_count": null,
   "metadata": {},
   "outputs": [],
   "source": [
    "client.download_file(str(DATA_PATH), BUCKET_NAME,  DATA_PATH_KEY_NAME)\n",
    "client.download_file(str(ALL_PROPERTIES_PATH), BUCKET_NAME,  ALL_PROPERTIES_PATH_KEY_NAME)\n",
    "client.download_file(str(CATBOOST_MODEL_PATH), BUCKET_NAME,  CATBOOST_MODEL_PATH_KEY_NAME)\n",
    "client.download_file(str(CATEGORIES_PATH), BUCKET_NAME,  CATEGORIES_PATH_KEY_NAME)\n",
    "client.download_file(str(MINI_PROPERTIES_PATH), BUCKET_NAME,  MINI_PROPERTIES_PATH_KEY_NAME)\n",
    "client.download_file(str(OPENRENT_PATH), BUCKET_NAME,  OPENRENT_PATH_KEY_NAME)\n",
    "client.download_file(str(OUTPUT_PATH), BUCKET_NAME,  OUTPUT_PATH_KEY_NAME)"
   ]
  }
 ],
 "metadata": {
  "kernelspec": {
   "display_name": "housing-recommender-system",
   "language": "python",
   "name": "python3"
  },
  "language_info": {
   "codemirror_mode": {
    "name": "ipython",
    "version": 3
   },
   "file_extension": ".py",
   "mimetype": "text/x-python",
   "name": "python",
   "nbconvert_exporter": "python",
   "pygments_lexer": "ipython3",
   "version": "3.11.4"
  },
  "orig_nbformat": 4
 },
 "nbformat": 4,
 "nbformat_minor": 2
}
